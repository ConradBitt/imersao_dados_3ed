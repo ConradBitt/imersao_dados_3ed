{
  "nbformat": 4,
  "nbformat_minor": 0,
  "metadata": {
    "colab": {
      "name": "Notebook Imersão Dados 3ª ED.ipynb",
      "provenance": [],
      "mount_file_id": "1Er3avWOZJAOFykbjR5NRiz-L8uiPSPpF",
      "authorship_tag": "ABX9TyMbPG0w/H6yXLmJeUqtODHq",
      "include_colab_link": true
    },
    "kernelspec": {
      "name": "python3",
      "display_name": "Python 3"
    },
    "language_info": {
      "name": "python"
    }
  },
  "cells": [
    {
      "cell_type": "markdown",
      "metadata": {
        "id": "view-in-github",
        "colab_type": "text"
      },
      "source": [
        "<a href=\"https://colab.research.google.com/github/ConradBitt/imersao_dados_3ed/blob/main/Notebook_Imers%C3%A3o_Dados_3%C2%AA_ED.ipynb\" target=\"_parent\"><img src=\"https://colab.research.google.com/assets/colab-badge.svg\" alt=\"Open In Colab\"/></a>"
      ]
    },
    {
      "cell_type": "markdown",
      "metadata": {
        "id": "Px021m2F8B0U"
      },
      "source": [
        "# Python Pandas e para um problema de farmácologia\n",
        "\n",
        "Neste tópico iremos utilizar o python junto com o módulo [Pandas](pandas.pydata.org/) para analisar alguns dados referêntes a experimentos em biologia molecular.\n"
      ]
    },
    {
      "cell_type": "markdown",
      "metadata": {
        "id": "qjqnh5Zy9UIK"
      },
      "source": [
        "## Importações"
      ]
    },
    {
      "cell_type": "code",
      "metadata": {
        "id": "IJZzimREA5X3"
      },
      "source": [
        "import pandas as pd \n",
        "import seaborn as sns\n",
        "import numpy as np\n",
        "\n",
        "from matplotlib import pyplot as plt\n",
        "import matplotlib as mpl\n",
        "\n",
        "sns.set_context('talk')"
      ],
      "execution_count": 64,
      "outputs": []
    },
    {
      "cell_type": "markdown",
      "metadata": {
        "id": "gFQOulMxA6Tv"
      },
      "source": [
        "## Obtendo dados "
      ]
    },
    {
      "cell_type": "code",
      "metadata": {
        "id": "COny6h9fBpi4"
      },
      "source": [
        "uri_experimentos = 'https://github.com/alura-cursos/imersaodados3/blob/main/dados/dados_experimentos.zip?raw=true'\n",
        "uri_resultados = 'https://github.com/alura-cursos/imersaodados3/blob/main/dados/dados_resultados.csv?raw=true'"
      ],
      "execution_count": 2,
      "outputs": []
    },
    {
      "cell_type": "code",
      "metadata": {
        "id": "bLCuD1g9A_IJ"
      },
      "source": [
        "experimentos = pd.read_csv(uri_experimentos,\n",
        "                           compression='zip')\n"
      ],
      "execution_count": 3,
      "outputs": []
    },
    {
      "cell_type": "markdown",
      "metadata": {
        "id": "xlPm2pE8EL22"
      },
      "source": [
        "## Exploração \n",
        "\n",
        "Aqui temos os dados referentes à um experimento em genética"
      ]
    },
    {
      "cell_type": "code",
      "metadata": {
        "colab": {
          "base_uri": "https://localhost:8080/",
          "height": 273
        },
        "id": "mjDR-tmfBOz9",
        "outputId": "572857ad-0385-485c-9862-90bd40e00d54"
      },
      "source": [
        "display(experimentos.tail())\n",
        "display(experimentos.shape)"
      ],
      "execution_count": 30,
      "outputs": [
        {
          "output_type": "display_data",
          "data": {
            "text/html": [
              "<div>\n",
              "<style scoped>\n",
              "    .dataframe tbody tr th:only-of-type {\n",
              "        vertical-align: middle;\n",
              "    }\n",
              "\n",
              "    .dataframe tbody tr th {\n",
              "        vertical-align: top;\n",
              "    }\n",
              "\n",
              "    .dataframe thead th {\n",
              "        text-align: right;\n",
              "    }\n",
              "</style>\n",
              "<table border=\"1\" class=\"dataframe\">\n",
              "  <thead>\n",
              "    <tr style=\"text-align: right;\">\n",
              "      <th></th>\n",
              "      <th>id</th>\n",
              "      <th>tratamento</th>\n",
              "      <th>tempo</th>\n",
              "      <th>dose</th>\n",
              "      <th>droga</th>\n",
              "      <th>g-0</th>\n",
              "      <th>g-1</th>\n",
              "      <th>g-2</th>\n",
              "      <th>g-3</th>\n",
              "      <th>g-4</th>\n",
              "      <th>g-5</th>\n",
              "      <th>g-6</th>\n",
              "      <th>g-7</th>\n",
              "      <th>g-8</th>\n",
              "      <th>g-9</th>\n",
              "      <th>g-10</th>\n",
              "      <th>g-11</th>\n",
              "      <th>g-12</th>\n",
              "      <th>g-13</th>\n",
              "      <th>g-14</th>\n",
              "      <th>g-15</th>\n",
              "      <th>g-16</th>\n",
              "      <th>g-17</th>\n",
              "      <th>g-18</th>\n",
              "      <th>g-19</th>\n",
              "      <th>g-20</th>\n",
              "      <th>g-21</th>\n",
              "      <th>g-22</th>\n",
              "      <th>g-23</th>\n",
              "      <th>g-24</th>\n",
              "      <th>g-25</th>\n",
              "      <th>g-26</th>\n",
              "      <th>g-27</th>\n",
              "      <th>g-28</th>\n",
              "      <th>g-29</th>\n",
              "      <th>g-30</th>\n",
              "      <th>g-31</th>\n",
              "      <th>g-32</th>\n",
              "      <th>g-33</th>\n",
              "      <th>g-34</th>\n",
              "      <th>...</th>\n",
              "      <th>c-60</th>\n",
              "      <th>c-61</th>\n",
              "      <th>c-62</th>\n",
              "      <th>c-63</th>\n",
              "      <th>c-64</th>\n",
              "      <th>c-65</th>\n",
              "      <th>c-66</th>\n",
              "      <th>c-67</th>\n",
              "      <th>c-68</th>\n",
              "      <th>c-69</th>\n",
              "      <th>c-70</th>\n",
              "      <th>c-71</th>\n",
              "      <th>c-72</th>\n",
              "      <th>c-73</th>\n",
              "      <th>c-74</th>\n",
              "      <th>c-75</th>\n",
              "      <th>c-76</th>\n",
              "      <th>c-77</th>\n",
              "      <th>c-78</th>\n",
              "      <th>c-79</th>\n",
              "      <th>c-80</th>\n",
              "      <th>c-81</th>\n",
              "      <th>c-82</th>\n",
              "      <th>c-83</th>\n",
              "      <th>c-84</th>\n",
              "      <th>c-85</th>\n",
              "      <th>c-86</th>\n",
              "      <th>c-87</th>\n",
              "      <th>c-88</th>\n",
              "      <th>c-89</th>\n",
              "      <th>c-90</th>\n",
              "      <th>c-91</th>\n",
              "      <th>c-92</th>\n",
              "      <th>c-93</th>\n",
              "      <th>c-94</th>\n",
              "      <th>c-95</th>\n",
              "      <th>c-96</th>\n",
              "      <th>c-97</th>\n",
              "      <th>c-98</th>\n",
              "      <th>c-99</th>\n",
              "    </tr>\n",
              "  </thead>\n",
              "  <tbody>\n",
              "    <tr>\n",
              "      <th>23809</th>\n",
              "      <td>id_fffb1ceed</td>\n",
              "      <td>com_droga</td>\n",
              "      <td>24</td>\n",
              "      <td>D2</td>\n",
              "      <td>df1d0a5a1</td>\n",
              "      <td>0.1394</td>\n",
              "      <td>-0.0636</td>\n",
              "      <td>-0.1112</td>\n",
              "      <td>-0.5080</td>\n",
              "      <td>-0.4713</td>\n",
              "      <td>0.7201</td>\n",
              "      <td>0.5773</td>\n",
              "      <td>0.3055</td>\n",
              "      <td>-0.4726</td>\n",
              "      <td>0.1269</td>\n",
              "      <td>0.2531</td>\n",
              "      <td>0.1730</td>\n",
              "      <td>-0.4532</td>\n",
              "      <td>-1.0790</td>\n",
              "      <td>0.2474</td>\n",
              "      <td>-0.4550</td>\n",
              "      <td>0.3588</td>\n",
              "      <td>0.1600</td>\n",
              "      <td>-0.7362</td>\n",
              "      <td>-0.1103</td>\n",
              "      <td>0.8550</td>\n",
              "      <td>-0.4139</td>\n",
              "      <td>0.5541</td>\n",
              "      <td>0.2310</td>\n",
              "      <td>-0.5573</td>\n",
              "      <td>-0.4397</td>\n",
              "      <td>-0.9260</td>\n",
              "      <td>-0.2424</td>\n",
              "      <td>-0.6686</td>\n",
              "      <td>0.2326</td>\n",
              "      <td>0.6456</td>\n",
              "      <td>0.0136</td>\n",
              "      <td>-0.5141</td>\n",
              "      <td>-0.6320</td>\n",
              "      <td>0.7166</td>\n",
              "      <td>...</td>\n",
              "      <td>0.0807</td>\n",
              "      <td>0.4024</td>\n",
              "      <td>-0.0895</td>\n",
              "      <td>0.4420</td>\n",
              "      <td>0.9641</td>\n",
              "      <td>-0.1846</td>\n",
              "      <td>-0.0014</td>\n",
              "      <td>0.3154</td>\n",
              "      <td>-0.2071</td>\n",
              "      <td>-0.6158</td>\n",
              "      <td>-0.2977</td>\n",
              "      <td>0.0992</td>\n",
              "      <td>0.6838</td>\n",
              "      <td>0.5259</td>\n",
              "      <td>0.7882</td>\n",
              "      <td>0.3119</td>\n",
              "      <td>-0.7697</td>\n",
              "      <td>0.2203</td>\n",
              "      <td>-1.0710</td>\n",
              "      <td>0.5979</td>\n",
              "      <td>0.0848</td>\n",
              "      <td>-0.2555</td>\n",
              "      <td>0.6293</td>\n",
              "      <td>1.1660</td>\n",
              "      <td>0.3329</td>\n",
              "      <td>0.2754</td>\n",
              "      <td>0.4108</td>\n",
              "      <td>-0.1252</td>\n",
              "      <td>-0.2340</td>\n",
              "      <td>0.2267</td>\n",
              "      <td>0.1969</td>\n",
              "      <td>0.0262</td>\n",
              "      <td>-0.8121</td>\n",
              "      <td>0.3434</td>\n",
              "      <td>0.5372</td>\n",
              "      <td>-0.3246</td>\n",
              "      <td>0.0631</td>\n",
              "      <td>0.9171</td>\n",
              "      <td>0.5258</td>\n",
              "      <td>0.4680</td>\n",
              "    </tr>\n",
              "    <tr>\n",
              "      <th>23810</th>\n",
              "      <td>id_fffb70c0c</td>\n",
              "      <td>com_droga</td>\n",
              "      <td>24</td>\n",
              "      <td>D2</td>\n",
              "      <td>ecf3b6b74</td>\n",
              "      <td>-1.3260</td>\n",
              "      <td>0.3478</td>\n",
              "      <td>-0.3743</td>\n",
              "      <td>0.9905</td>\n",
              "      <td>-0.7178</td>\n",
              "      <td>0.6621</td>\n",
              "      <td>-0.2252</td>\n",
              "      <td>-0.5565</td>\n",
              "      <td>0.5112</td>\n",
              "      <td>0.6727</td>\n",
              "      <td>-0.1851</td>\n",
              "      <td>2.8650</td>\n",
              "      <td>-0.2140</td>\n",
              "      <td>-0.6153</td>\n",
              "      <td>0.8362</td>\n",
              "      <td>0.5584</td>\n",
              "      <td>-0.2589</td>\n",
              "      <td>0.1292</td>\n",
              "      <td>0.0148</td>\n",
              "      <td>0.0949</td>\n",
              "      <td>-0.2182</td>\n",
              "      <td>-0.9235</td>\n",
              "      <td>0.0749</td>\n",
              "      <td>-1.5910</td>\n",
              "      <td>-0.8359</td>\n",
              "      <td>-0.9217</td>\n",
              "      <td>0.3013</td>\n",
              "      <td>0.1716</td>\n",
              "      <td>0.0880</td>\n",
              "      <td>0.1842</td>\n",
              "      <td>0.1835</td>\n",
              "      <td>0.5436</td>\n",
              "      <td>-0.0533</td>\n",
              "      <td>-0.0491</td>\n",
              "      <td>0.9543</td>\n",
              "      <td>...</td>\n",
              "      <td>0.1410</td>\n",
              "      <td>1.2640</td>\n",
              "      <td>-0.8663</td>\n",
              "      <td>0.8129</td>\n",
              "      <td>-0.1514</td>\n",
              "      <td>-0.4652</td>\n",
              "      <td>-0.7390</td>\n",
              "      <td>-1.3270</td>\n",
              "      <td>0.9925</td>\n",
              "      <td>1.0570</td>\n",
              "      <td>-0.3355</td>\n",
              "      <td>-0.2555</td>\n",
              "      <td>0.8219</td>\n",
              "      <td>0.6995</td>\n",
              "      <td>-0.2942</td>\n",
              "      <td>0.2408</td>\n",
              "      <td>-0.7781</td>\n",
              "      <td>-0.0929</td>\n",
              "      <td>-0.0329</td>\n",
              "      <td>0.0781</td>\n",
              "      <td>-1.4440</td>\n",
              "      <td>-0.0921</td>\n",
              "      <td>0.3188</td>\n",
              "      <td>-1.1080</td>\n",
              "      <td>0.4895</td>\n",
              "      <td>-0.2144</td>\n",
              "      <td>1.0960</td>\n",
              "      <td>0.3335</td>\n",
              "      <td>0.4444</td>\n",
              "      <td>-1.1130</td>\n",
              "      <td>0.4286</td>\n",
              "      <td>0.4426</td>\n",
              "      <td>0.0423</td>\n",
              "      <td>-0.3195</td>\n",
              "      <td>-0.8086</td>\n",
              "      <td>-0.9798</td>\n",
              "      <td>-0.2084</td>\n",
              "      <td>-0.1224</td>\n",
              "      <td>-0.2715</td>\n",
              "      <td>0.3689</td>\n",
              "    </tr>\n",
              "    <tr>\n",
              "      <th>23811</th>\n",
              "      <td>id_fffc1c3f4</td>\n",
              "      <td>com_controle</td>\n",
              "      <td>48</td>\n",
              "      <td>D2</td>\n",
              "      <td>cacb2b860</td>\n",
              "      <td>0.3942</td>\n",
              "      <td>0.3756</td>\n",
              "      <td>0.3109</td>\n",
              "      <td>-0.7389</td>\n",
              "      <td>0.5505</td>\n",
              "      <td>-0.0159</td>\n",
              "      <td>-0.2541</td>\n",
              "      <td>0.1745</td>\n",
              "      <td>-0.0340</td>\n",
              "      <td>0.4865</td>\n",
              "      <td>-0.1854</td>\n",
              "      <td>0.0716</td>\n",
              "      <td>0.1729</td>\n",
              "      <td>-0.0434</td>\n",
              "      <td>0.1542</td>\n",
              "      <td>-0.2192</td>\n",
              "      <td>-0.0302</td>\n",
              "      <td>-0.4218</td>\n",
              "      <td>0.4057</td>\n",
              "      <td>-0.5372</td>\n",
              "      <td>0.1521</td>\n",
              "      <td>-0.2651</td>\n",
              "      <td>0.2310</td>\n",
              "      <td>-0.8101</td>\n",
              "      <td>0.4943</td>\n",
              "      <td>0.6905</td>\n",
              "      <td>-0.3720</td>\n",
              "      <td>-1.4110</td>\n",
              "      <td>0.4516</td>\n",
              "      <td>1.2300</td>\n",
              "      <td>-0.1949</td>\n",
              "      <td>-1.3280</td>\n",
              "      <td>-0.4276</td>\n",
              "      <td>-0.0040</td>\n",
              "      <td>-0.3086</td>\n",
              "      <td>...</td>\n",
              "      <td>0.6845</td>\n",
              "      <td>0.7127</td>\n",
              "      <td>0.7294</td>\n",
              "      <td>0.4718</td>\n",
              "      <td>-0.2020</td>\n",
              "      <td>0.2783</td>\n",
              "      <td>0.4934</td>\n",
              "      <td>0.4144</td>\n",
              "      <td>0.5449</td>\n",
              "      <td>1.4690</td>\n",
              "      <td>-0.6142</td>\n",
              "      <td>0.6068</td>\n",
              "      <td>0.3434</td>\n",
              "      <td>0.9880</td>\n",
              "      <td>-0.0468</td>\n",
              "      <td>-0.1882</td>\n",
              "      <td>-0.0087</td>\n",
              "      <td>-0.0356</td>\n",
              "      <td>0.5718</td>\n",
              "      <td>0.4971</td>\n",
              "      <td>0.1057</td>\n",
              "      <td>0.2111</td>\n",
              "      <td>0.6992</td>\n",
              "      <td>0.0708</td>\n",
              "      <td>0.6169</td>\n",
              "      <td>0.2248</td>\n",
              "      <td>0.5994</td>\n",
              "      <td>0.2689</td>\n",
              "      <td>0.0305</td>\n",
              "      <td>1.2320</td>\n",
              "      <td>0.5409</td>\n",
              "      <td>0.3755</td>\n",
              "      <td>0.7343</td>\n",
              "      <td>0.2807</td>\n",
              "      <td>0.4116</td>\n",
              "      <td>0.6422</td>\n",
              "      <td>0.2256</td>\n",
              "      <td>0.7592</td>\n",
              "      <td>0.6656</td>\n",
              "      <td>0.3808</td>\n",
              "    </tr>\n",
              "    <tr>\n",
              "      <th>23812</th>\n",
              "      <td>id_fffcb9e7c</td>\n",
              "      <td>com_droga</td>\n",
              "      <td>24</td>\n",
              "      <td>D1</td>\n",
              "      <td>8b87a7a83</td>\n",
              "      <td>0.6660</td>\n",
              "      <td>0.2324</td>\n",
              "      <td>0.4392</td>\n",
              "      <td>0.2044</td>\n",
              "      <td>0.8531</td>\n",
              "      <td>-0.0343</td>\n",
              "      <td>0.0323</td>\n",
              "      <td>0.0463</td>\n",
              "      <td>0.4299</td>\n",
              "      <td>-0.7985</td>\n",
              "      <td>0.5742</td>\n",
              "      <td>0.1421</td>\n",
              "      <td>2.2700</td>\n",
              "      <td>0.2046</td>\n",
              "      <td>0.5363</td>\n",
              "      <td>-1.7330</td>\n",
              "      <td>0.1450</td>\n",
              "      <td>0.6097</td>\n",
              "      <td>0.2024</td>\n",
              "      <td>0.9865</td>\n",
              "      <td>-0.7805</td>\n",
              "      <td>0.9608</td>\n",
              "      <td>0.3440</td>\n",
              "      <td>2.7650</td>\n",
              "      <td>0.4925</td>\n",
              "      <td>0.6698</td>\n",
              "      <td>0.2374</td>\n",
              "      <td>-0.3372</td>\n",
              "      <td>0.8771</td>\n",
              "      <td>-2.6560</td>\n",
              "      <td>-0.2000</td>\n",
              "      <td>-0.2043</td>\n",
              "      <td>0.6797</td>\n",
              "      <td>-0.0248</td>\n",
              "      <td>-0.0927</td>\n",
              "      <td>...</td>\n",
              "      <td>0.3360</td>\n",
              "      <td>-0.6136</td>\n",
              "      <td>0.5011</td>\n",
              "      <td>0.9261</td>\n",
              "      <td>0.4419</td>\n",
              "      <td>0.0295</td>\n",
              "      <td>0.4220</td>\n",
              "      <td>0.4677</td>\n",
              "      <td>-0.1184</td>\n",
              "      <td>0.4524</td>\n",
              "      <td>0.4135</td>\n",
              "      <td>0.1356</td>\n",
              "      <td>-0.5801</td>\n",
              "      <td>0.0411</td>\n",
              "      <td>1.0240</td>\n",
              "      <td>1.0340</td>\n",
              "      <td>-0.0270</td>\n",
              "      <td>-0.4194</td>\n",
              "      <td>0.7403</td>\n",
              "      <td>-0.6793</td>\n",
              "      <td>-0.1423</td>\n",
              "      <td>0.7307</td>\n",
              "      <td>0.7946</td>\n",
              "      <td>-0.0650</td>\n",
              "      <td>0.9038</td>\n",
              "      <td>0.2324</td>\n",
              "      <td>0.9676</td>\n",
              "      <td>1.0940</td>\n",
              "      <td>0.4290</td>\n",
              "      <td>0.5187</td>\n",
              "      <td>-0.1105</td>\n",
              "      <td>0.4258</td>\n",
              "      <td>-0.2012</td>\n",
              "      <td>0.1506</td>\n",
              "      <td>1.5230</td>\n",
              "      <td>0.7101</td>\n",
              "      <td>0.1732</td>\n",
              "      <td>0.7015</td>\n",
              "      <td>-0.6290</td>\n",
              "      <td>0.0740</td>\n",
              "    </tr>\n",
              "    <tr>\n",
              "      <th>23813</th>\n",
              "      <td>id_ffffdd77b</td>\n",
              "      <td>com_droga</td>\n",
              "      <td>72</td>\n",
              "      <td>D1</td>\n",
              "      <td>972f41291</td>\n",
              "      <td>-0.8598</td>\n",
              "      <td>1.0240</td>\n",
              "      <td>-0.1361</td>\n",
              "      <td>0.7952</td>\n",
              "      <td>-0.3611</td>\n",
              "      <td>-3.6750</td>\n",
              "      <td>-1.2420</td>\n",
              "      <td>0.9146</td>\n",
              "      <td>3.0790</td>\n",
              "      <td>1.2460</td>\n",
              "      <td>1.9460</td>\n",
              "      <td>1.4370</td>\n",
              "      <td>2.9780</td>\n",
              "      <td>2.2370</td>\n",
              "      <td>-0.6818</td>\n",
              "      <td>0.6870</td>\n",
              "      <td>-1.1060</td>\n",
              "      <td>0.0182</td>\n",
              "      <td>-0.9247</td>\n",
              "      <td>-0.0738</td>\n",
              "      <td>-0.1919</td>\n",
              "      <td>-0.7722</td>\n",
              "      <td>-1.4050</td>\n",
              "      <td>-1.0050</td>\n",
              "      <td>-1.1170</td>\n",
              "      <td>-0.5293</td>\n",
              "      <td>-1.1720</td>\n",
              "      <td>-0.2885</td>\n",
              "      <td>0.1599</td>\n",
              "      <td>-0.4250</td>\n",
              "      <td>0.3591</td>\n",
              "      <td>-0.1420</td>\n",
              "      <td>-0.9530</td>\n",
              "      <td>-0.2005</td>\n",
              "      <td>-1.8340</td>\n",
              "      <td>...</td>\n",
              "      <td>-6.9170</td>\n",
              "      <td>-1.8640</td>\n",
              "      <td>-2.5090</td>\n",
              "      <td>-4.7130</td>\n",
              "      <td>-1.7250</td>\n",
              "      <td>-3.8650</td>\n",
              "      <td>-3.0800</td>\n",
              "      <td>-4.1530</td>\n",
              "      <td>-1.2030</td>\n",
              "      <td>-1.1690</td>\n",
              "      <td>-4.1460</td>\n",
              "      <td>-1.2670</td>\n",
              "      <td>-1.1300</td>\n",
              "      <td>-2.4390</td>\n",
              "      <td>0.1591</td>\n",
              "      <td>-2.2490</td>\n",
              "      <td>-2.5860</td>\n",
              "      <td>-1.9520</td>\n",
              "      <td>-2.1810</td>\n",
              "      <td>-4.6690</td>\n",
              "      <td>-3.9450</td>\n",
              "      <td>-2.9560</td>\n",
              "      <td>-2.7930</td>\n",
              "      <td>-2.1560</td>\n",
              "      <td>-2.4100</td>\n",
              "      <td>-1.8190</td>\n",
              "      <td>-3.3480</td>\n",
              "      <td>-0.1414</td>\n",
              "      <td>-2.6430</td>\n",
              "      <td>-2.5810</td>\n",
              "      <td>-3.3890</td>\n",
              "      <td>-1.7450</td>\n",
              "      <td>-6.6300</td>\n",
              "      <td>-4.0950</td>\n",
              "      <td>-7.3860</td>\n",
              "      <td>-1.4160</td>\n",
              "      <td>-3.5770</td>\n",
              "      <td>-0.4775</td>\n",
              "      <td>-2.1500</td>\n",
              "      <td>-4.2520</td>\n",
              "    </tr>\n",
              "  </tbody>\n",
              "</table>\n",
              "<p>5 rows × 877 columns</p>\n",
              "</div>"
            ],
            "text/plain": [
              "                 id    tratamento  tempo dose  ...    c-96    c-97    c-98    c-99\n",
              "23809  id_fffb1ceed     com_droga     24   D2  ...  0.0631  0.9171  0.5258  0.4680\n",
              "23810  id_fffb70c0c     com_droga     24   D2  ... -0.2084 -0.1224 -0.2715  0.3689\n",
              "23811  id_fffc1c3f4  com_controle     48   D2  ...  0.2256  0.7592  0.6656  0.3808\n",
              "23812  id_fffcb9e7c     com_droga     24   D1  ...  0.1732  0.7015 -0.6290  0.0740\n",
              "23813  id_ffffdd77b     com_droga     72   D1  ... -3.5770 -0.4775 -2.1500 -4.2520\n",
              "\n",
              "[5 rows x 877 columns]"
            ]
          },
          "metadata": {
            "tags": []
          }
        },
        {
          "output_type": "display_data",
          "data": {
            "text/plain": [
              "(23814, 877)"
            ]
          },
          "metadata": {
            "tags": []
          }
        }
      ]
    },
    {
      "cell_type": "markdown",
      "metadata": {
        "id": "ZP8kJu_fCCtN"
      },
      "source": [
        "Aparentemente são dados experimentais de teste de algumas drogas/farmacos/compostos, nas colunas temos as variáveis e linhas amostras.\n",
        "\n",
        "Temos um total de 23814 amostras, cada uma com 877 variáveis. Podemos analisar que tipo de dado apresenta cada variável com o método ``info()``"
      ]
    },
    {
      "cell_type": "markdown",
      "metadata": {
        "id": "Y0gB5_TkpZQ_"
      },
      "source": [
        "### Tipos de variáveis"
      ]
    },
    {
      "cell_type": "code",
      "metadata": {
        "colab": {
          "base_uri": "https://localhost:8080/"
        },
        "id": "7lvOa610DlpI",
        "outputId": "26061504-ba6e-4867-a870-49f598bd5bef"
      },
      "source": [
        "experimentos.info()"
      ],
      "execution_count": 5,
      "outputs": [
        {
          "output_type": "stream",
          "text": [
            "<class 'pandas.core.frame.DataFrame'>\n",
            "RangeIndex: 23814 entries, 0 to 23813\n",
            "Columns: 877 entries, id to c-99\n",
            "dtypes: float64(872), int64(1), object(4)\n",
            "memory usage: 159.3+ MB\n"
          ],
          "name": "stdout"
        }
      ]
    },
    {
      "cell_type": "markdown",
      "metadata": {
        "id": "Pm43wy-lDurg"
      },
      "source": [
        "\n",
        "#### Cometario sobre os tipos de variáveis\n",
        "> Temos dados do tipo float64 (872 variávei), int64(uma variável), object (quatro variáveis).\n",
        "\n",
        "---\n",
        "\n"
      ]
    },
    {
      "cell_type": "markdown",
      "metadata": {
        "id": "Fg99aZCbppQE"
      },
      "source": [
        "### Sobre categorias de tratamento\n",
        "\n",
        "É possivel notar a presença de uma variável chamada ``tratamento`` indica se aquela amostra pertence ao grupo ``com_controle`` ou ao grupo ``com_droga``. Em pesquisas é extremamente comum ter estes dois grupos de amostras quando se quer testar exclusivamente determinados compostos, dado que as amostras estão submetidas à mesmas condições, se ministra um tratamento num grupo de controle e em outro grupo com a droga, assim é possível comparar se alterações ocorreram apenas sob influencia do fármaco ou não.\n"
      ]
    },
    {
      "cell_type": "code",
      "metadata": {
        "colab": {
          "base_uri": "https://localhost:8080/",
          "height": 528
        },
        "id": "HgFWcYccFFa8",
        "outputId": "ee1f4a6b-1364-4ccf-b9ab-3ddaeb241a49"
      },
      "source": [
        "tratamentos = experimentos.tratamento.value_counts()\n",
        "\n",
        "ax = sns.barplot(y=tratamentos.index, x=tratamentos.values)\n",
        "ax.figure.set_size_inches(7,5)\n",
        "\n",
        "ax.set_title('Proporção entre categorias', pad=20)\n",
        "ax.set_yticklabels([categoria.replace('_', ' ') for categoria in tratamentos.index])\n",
        "\n",
        "plt.minorticks_on()\n",
        "plt.show()\n",
        "\n",
        "print('Tabela em (%) de amostras em cada tratamento: \\n')\n",
        "tratamentos = (experimentos.tratamento.value_counts(normalize=True) * 100).to_frame()\n",
        "tratamentos.columns = ['Amostras (%)']\n",
        "tratamentos = tratamentos.rename_axis('tratamento')\n",
        "display(tratamentos)"
      ],
      "execution_count": 88,
      "outputs": [
        {
          "output_type": "display_data",
          "data": {
            "image/png": "[encoded data removed]",
            "text/plain": [
              "<Figure size 504x360 with 1 Axes>"
            ]
          },
          "metadata": {
            "tags": [],
            "needs_background": "light"
          }
        },
        {
          "output_type": "stream",
          "text": [
            "Tabela em (%) de amostras em cada tratamento: \n",
            "\n"
          ],
          "name": "stdout"
        },
        {
          "output_type": "display_data",
          "data": {
            "text/html": [
              "<div>\n",
              "<style scoped>\n",
              "    .dataframe tbody tr th:only-of-type {\n",
              "        vertical-align: middle;\n",
              "    }\n",
              "\n",
              "    .dataframe tbody tr th {\n",
              "        vertical-align: top;\n",
              "    }\n",
              "\n",
              "    .dataframe thead th {\n",
              "        text-align: right;\n",
              "    }\n",
              "</style>\n",
              "<table border=\"1\" class=\"dataframe\">\n",
              "  <thead>\n",
              "    <tr style=\"text-align: right;\">\n",
              "      <th></th>\n",
              "      <th>Amostras (%)</th>\n",
              "    </tr>\n",
              "    <tr>\n",
              "      <th>tratamento</th>\n",
              "      <th></th>\n",
              "    </tr>\n",
              "  </thead>\n",
              "  <tbody>\n",
              "    <tr>\n",
              "      <th>com_droga</th>\n",
              "      <td>92.164273</td>\n",
              "    </tr>\n",
              "    <tr>\n",
              "      <th>com_controle</th>\n",
              "      <td>7.835727</td>\n",
              "    </tr>\n",
              "  </tbody>\n",
              "</table>\n",
              "</div>"
            ],
            "text/plain": [
              "              Amostras (%)\n",
              "tratamento                \n",
              "com_droga        92.164273\n",
              "com_controle      7.835727"
            ]
          },
          "metadata": {
            "tags": []
          }
        }
      ]
    },
    {
      "cell_type": "markdown",
      "metadata": {
        "id": "P2m18ghLFKHo"
      },
      "source": [
        "#### Comentário sobre categorias de tratamento \n",
        "> Acima vemos quantas amostras pertencem a cada grupo. É possível perceber que a proporção entre os dados não é a mesma, mais de 92% as amostras pertence ao grupo de amostras ``com_droga`` e apenas 7% pertence ao grupo ``com_controle``. **Uma hipótese que é razoável propor é que neste conjunto de experimentos se testava varios compostos ao mesmo tempo dado um mesmo grupo de controle.**\n",
        "\n",
        "---"
      ]
    },
    {
      "cell_type": "markdown",
      "metadata": {
        "id": "u20OCdLdnF9y"
      },
      "source": [
        "### Analisando a variável tempo"
      ]
    },
    {
      "cell_type": "code",
      "metadata": {
        "colab": {
          "base_uri": "https://localhost:8080/",
          "height": 560
        },
        "id": "2LcBugVWnJBc",
        "outputId": "a1efa5b2-4cf5-4e38-e36c-e5317dbbc99a"
      },
      "source": [
        "tempos_das_amostras = experimentos.tempo.value_counts()\n",
        "\n",
        "ax = sns.barplot(x=tempos_das_amostras.index, y=tempos_das_amostras.values)\n",
        "ax.set_title('Proporção entre categorias', pad=20)\n",
        "ax.figure.set_size_inches(7,5)\n",
        "ax.set_xticklabels([str(tempo) + 'h' for tempo in tempos_das_amostras.index])\n",
        "plt.show()\n",
        "\n",
        "print('Tabela em (%) das amostras no tempo referente: \\n')\n",
        "tempos_das_amostras = (experimentos.tempo.value_counts(normalize=True) * 100).to_frame()\n",
        "tempos_das_amostras.columns = ['Amostras (%)']\n",
        "tempos_das_amostras = tempos_das_amostras.rename_axis('Tempo')\n",
        "tempos_das_amostras"
      ],
      "execution_count": 86,
      "outputs": [
        {
          "output_type": "display_data",
          "data": {
            "image/png": "[encoded data removed]",
            "text/plain": [
              "<Figure size 504x360 with 1 Axes>"
            ]
          },
          "metadata": {
            "tags": [],
            "needs_background": "light"
          }
        },
        {
          "output_type": "stream",
          "text": [
            "Tabela em (%) das amostras no tempo referente: \n",
            "\n"
          ],
          "name": "stdout"
        },
        {
          "output_type": "execute_result",
          "data": {
            "text/html": [
              "<div>\n",
              "<style scoped>\n",
              "    .dataframe tbody tr th:only-of-type {\n",
              "        vertical-align: middle;\n",
              "    }\n",
              "\n",
              "    .dataframe tbody tr th {\n",
              "        vertical-align: top;\n",
              "    }\n",
              "\n",
              "    .dataframe thead th {\n",
              "        text-align: right;\n",
              "    }\n",
              "</style>\n",
              "<table border=\"1\" class=\"dataframe\">\n",
              "  <thead>\n",
              "    <tr style=\"text-align: right;\">\n",
              "      <th></th>\n",
              "      <th>Amostras (%)</th>\n",
              "    </tr>\n",
              "    <tr>\n",
              "      <th>Tempo</th>\n",
              "      <th></th>\n",
              "    </tr>\n",
              "  </thead>\n",
              "  <tbody>\n",
              "    <tr>\n",
              "      <th>48</th>\n",
              "      <td>34.643487</td>\n",
              "    </tr>\n",
              "    <tr>\n",
              "      <th>72</th>\n",
              "      <td>32.720249</td>\n",
              "    </tr>\n",
              "    <tr>\n",
              "      <th>24</th>\n",
              "      <td>32.636264</td>\n",
              "    </tr>\n",
              "  </tbody>\n",
              "</table>\n",
              "</div>"
            ],
            "text/plain": [
              "       Amostras (%)\n",
              "Tempo              \n",
              "48        34.643487\n",
              "72        32.720249\n",
              "24        32.636264"
            ]
          },
          "metadata": {
            "tags": []
          },
          "execution_count": 86
        }
      ]
    },
    {
      "cell_type": "markdown",
      "metadata": {
        "id": "vh1PmuvhmbX_"
      },
      "source": [
        "#### Comentário sobre a categoria tempo\n",
        "> Podemos verificar que as categorias são $48$, $72$ e $24$, possivelmente expresso em horas. A proporção dos dados nas categorias é bem homogênea.\n",
        "\n",
        "---"
      ]
    },
    {
      "cell_type": "markdown",
      "metadata": {
        "id": "nbxWPwHe6-SC"
      },
      "source": [
        "### Drogas ministradas\n",
        "\n",
        "Dentro dos experimentos temos uma variável chamada ``droga``, nela estão os tipos de drogas ministradas em cada amostra. Esta variável esta anonimizada justamente para que o composto aplicado não seja enviesado por quem pesquisa e analisa os dados. Mas podemos investigar quais tipos de drogas foram ministradas."
      ]
    },
    {
      "cell_type": "code",
      "metadata": {
        "colab": {
          "base_uri": "https://localhost:8080/",
          "height": 801
        },
        "id": "ceM3Ry2O7AJy",
        "outputId": "58d474dd-3e85-4b22-d439-a6d8e965be52"
      },
      "source": [
        "drogas_ministradas = experimentos.query('tratamento == \"com_droga\"')['droga'].value_counts()\n",
        "display(drogas_ministradas.to_frame())\n",
        "\n",
        "\n",
        "dez_drogas_mais_ministrada = drogas_ministradas[:10]\n",
        "\n",
        "ax = sns.barplot(x=dez_drogas_mais_ministrada.values,\n",
        "                 y=dez_drogas_mais_ministrada.index, palette='tab20')\n",
        "ax.figure.set_size_inches(8,5.5)\n",
        "ax.set_title('Dez drogas mais ministradas', pad=20)\n",
        "ax.xaxis.set_minor_locator(mpl.ticker.AutoMinorLocator())\n",
        "plt.show()\n"
      ],
      "execution_count": 73,
      "outputs": [
        {
          "output_type": "display_data",
          "data": {
            "text/html": [
              "<div>\n",
              "<style scoped>\n",
              "    .dataframe tbody tr th:only-of-type {\n",
              "        vertical-align: middle;\n",
              "    }\n",
              "\n",
              "    .dataframe tbody tr th {\n",
              "        vertical-align: top;\n",
              "    }\n",
              "\n",
              "    .dataframe thead th {\n",
              "        text-align: right;\n",
              "    }\n",
              "</style>\n",
              "<table border=\"1\" class=\"dataframe\">\n",
              "  <thead>\n",
              "    <tr style=\"text-align: right;\">\n",
              "      <th></th>\n",
              "      <th>droga</th>\n",
              "    </tr>\n",
              "  </thead>\n",
              "  <tbody>\n",
              "    <tr>\n",
              "      <th>87d714366</th>\n",
              "      <td>718</td>\n",
              "    </tr>\n",
              "    <tr>\n",
              "      <th>9f80f3f77</th>\n",
              "      <td>246</td>\n",
              "    </tr>\n",
              "    <tr>\n",
              "      <th>8b87a7a83</th>\n",
              "      <td>203</td>\n",
              "    </tr>\n",
              "    <tr>\n",
              "      <th>5628cb3ee</th>\n",
              "      <td>202</td>\n",
              "    </tr>\n",
              "    <tr>\n",
              "      <th>d08af5d4b</th>\n",
              "      <td>196</td>\n",
              "    </tr>\n",
              "    <tr>\n",
              "      <th>...</th>\n",
              "      <td>...</td>\n",
              "    </tr>\n",
              "    <tr>\n",
              "      <th>89ced6383</th>\n",
              "      <td>1</td>\n",
              "    </tr>\n",
              "    <tr>\n",
              "      <th>ef4e67d99</th>\n",
              "      <td>1</td>\n",
              "    </tr>\n",
              "    <tr>\n",
              "      <th>44bba684f</th>\n",
              "      <td>1</td>\n",
              "    </tr>\n",
              "    <tr>\n",
              "      <th>73aa9f9ff</th>\n",
              "      <td>1</td>\n",
              "    </tr>\n",
              "    <tr>\n",
              "      <th>3276db5ea</th>\n",
              "      <td>1</td>\n",
              "    </tr>\n",
              "  </tbody>\n",
              "</table>\n",
              "<p>3288 rows × 1 columns</p>\n",
              "</div>"
            ],
            "text/plain": [
              "           droga\n",
              "87d714366    718\n",
              "9f80f3f77    246\n",
              "8b87a7a83    203\n",
              "5628cb3ee    202\n",
              "d08af5d4b    196\n",
              "...          ...\n",
              "89ced6383      1\n",
              "ef4e67d99      1\n",
              "44bba684f      1\n",
              "73aa9f9ff      1\n",
              "3276db5ea      1\n",
              "\n",
              "[3288 rows x 1 columns]"
            ]
          },
          "metadata": {
            "tags": []
          }
        },
        {
          "output_type": "display_data",
          "data": {
            "image/png": "[encoded data removed]",
            "text/plain": [
              "<Figure size 576x396 with 1 Axes>"
            ]
          },
          "metadata": {
            "tags": [],
            "needs_background": "light"
          }
        }
      ]
    },
    {
      "cell_type": "markdown",
      "metadata": {
        "id": "VWmIZsNk8TqO"
      },
      "source": [
        "#### Comentario sobre quantos tipos de drogas foram ministradas\n",
        "\n",
        "> Dentre as amostras classificadas como \"com_droga\" foram ministradas 3288 substancias diferentes no experimento. É possível notar que muitas drogas foram aplicadas em apenas uma amostra. Dado que algumas drogas tem uma baixa amostragem vou exibir as 10 substancias mais frequentes.\n",
        "\n",
        "\n"
      ]
    },
    {
      "cell_type": "markdown",
      "metadata": {
        "id": "i6IPORZAFFkC"
      },
      "source": [
        "\n",
        "\n",
        "### Medidas de tendencia central, dispersão e intervalo das variáveis\n",
        "Outro ponto importante de se dar uma breve olhada é nas medidas de tendência central, dispersão e intervalos interquartis, podemos fazer isso através do método `describe()`:"
      ]
    },
    {
      "cell_type": "code",
      "metadata": {
        "colab": {
          "base_uri": "https://localhost:8080/",
          "height": 424
        },
        "id": "OTAl2CG7DQfR",
        "outputId": "7ee7fabc-5dc7-483c-9419-c63d201a7627"
      },
      "source": [
        "experimentos.describe().T"
      ],
      "execution_count": 8,
      "outputs": [
        {
          "output_type": "execute_result",
          "data": {
            "text/html": [
              "<div>\n",
              "<style scoped>\n",
              "    .dataframe tbody tr th:only-of-type {\n",
              "        vertical-align: middle;\n",
              "    }\n",
              "\n",
              "    .dataframe tbody tr th {\n",
              "        vertical-align: top;\n",
              "    }\n",
              "\n",
              "    .dataframe thead th {\n",
              "        text-align: right;\n",
              "    }\n",
              "</style>\n",
              "<table border=\"1\" class=\"dataframe\">\n",
              "  <thead>\n",
              "    <tr style=\"text-align: right;\">\n",
              "      <th></th>\n",
              "      <th>count</th>\n",
              "      <th>mean</th>\n",
              "      <th>std</th>\n",
              "      <th>min</th>\n",
              "      <th>25%</th>\n",
              "      <th>50%</th>\n",
              "      <th>75%</th>\n",
              "      <th>max</th>\n",
              "    </tr>\n",
              "  </thead>\n",
              "  <tbody>\n",
              "    <tr>\n",
              "      <th>tempo</th>\n",
              "      <td>23814.0</td>\n",
              "      <td>48.020156</td>\n",
              "      <td>19.402807</td>\n",
              "      <td>24.000</td>\n",
              "      <td>24.000000</td>\n",
              "      <td>48.00000</td>\n",
              "      <td>72.000000</td>\n",
              "      <td>72.000</td>\n",
              "    </tr>\n",
              "    <tr>\n",
              "      <th>g-0</th>\n",
              "      <td>23814.0</td>\n",
              "      <td>0.248366</td>\n",
              "      <td>1.393399</td>\n",
              "      <td>-5.513</td>\n",
              "      <td>-0.473075</td>\n",
              "      <td>-0.00885</td>\n",
              "      <td>0.525700</td>\n",
              "      <td>10.000</td>\n",
              "    </tr>\n",
              "    <tr>\n",
              "      <th>g-1</th>\n",
              "      <td>23814.0</td>\n",
              "      <td>-0.095684</td>\n",
              "      <td>0.812363</td>\n",
              "      <td>-5.737</td>\n",
              "      <td>-0.562200</td>\n",
              "      <td>-0.04660</td>\n",
              "      <td>0.403075</td>\n",
              "      <td>5.039</td>\n",
              "    </tr>\n",
              "    <tr>\n",
              "      <th>g-2</th>\n",
              "      <td>23814.0</td>\n",
              "      <td>0.152253</td>\n",
              "      <td>1.035731</td>\n",
              "      <td>-9.104</td>\n",
              "      <td>-0.437750</td>\n",
              "      <td>0.07520</td>\n",
              "      <td>0.663925</td>\n",
              "      <td>8.257</td>\n",
              "    </tr>\n",
              "    <tr>\n",
              "      <th>g-3</th>\n",
              "      <td>23814.0</td>\n",
              "      <td>0.081971</td>\n",
              "      <td>0.950012</td>\n",
              "      <td>-5.998</td>\n",
              "      <td>-0.429575</td>\n",
              "      <td>0.00805</td>\n",
              "      <td>0.463400</td>\n",
              "      <td>10.000</td>\n",
              "    </tr>\n",
              "    <tr>\n",
              "      <th>...</th>\n",
              "      <td>...</td>\n",
              "      <td>...</td>\n",
              "      <td>...</td>\n",
              "      <td>...</td>\n",
              "      <td>...</td>\n",
              "      <td>...</td>\n",
              "      <td>...</td>\n",
              "      <td>...</td>\n",
              "    </tr>\n",
              "    <tr>\n",
              "      <th>c-95</th>\n",
              "      <td>23814.0</td>\n",
              "      <td>-0.353726</td>\n",
              "      <td>1.629291</td>\n",
              "      <td>-10.000</td>\n",
              "      <td>-0.567975</td>\n",
              "      <td>-0.01025</td>\n",
              "      <td>0.444750</td>\n",
              "      <td>2.814</td>\n",
              "    </tr>\n",
              "    <tr>\n",
              "      <th>c-96</th>\n",
              "      <td>23814.0</td>\n",
              "      <td>-0.463485</td>\n",
              "      <td>2.059725</td>\n",
              "      <td>-10.000</td>\n",
              "      <td>-0.552575</td>\n",
              "      <td>-0.00125</td>\n",
              "      <td>0.465225</td>\n",
              "      <td>3.505</td>\n",
              "    </tr>\n",
              "    <tr>\n",
              "      <th>c-97</th>\n",
              "      <td>23814.0</td>\n",
              "      <td>-0.378241</td>\n",
              "      <td>1.703615</td>\n",
              "      <td>-10.000</td>\n",
              "      <td>-0.561000</td>\n",
              "      <td>-0.00680</td>\n",
              "      <td>0.446400</td>\n",
              "      <td>2.924</td>\n",
              "    </tr>\n",
              "    <tr>\n",
              "      <th>c-98</th>\n",
              "      <td>23814.0</td>\n",
              "      <td>-0.470252</td>\n",
              "      <td>1.834828</td>\n",
              "      <td>-10.000</td>\n",
              "      <td>-0.592600</td>\n",
              "      <td>0.01400</td>\n",
              "      <td>0.461275</td>\n",
              "      <td>3.111</td>\n",
              "    </tr>\n",
              "    <tr>\n",
              "      <th>c-99</th>\n",
              "      <td>23814.0</td>\n",
              "      <td>-0.301505</td>\n",
              "      <td>1.407918</td>\n",
              "      <td>-10.000</td>\n",
              "      <td>-0.562900</td>\n",
              "      <td>-0.01950</td>\n",
              "      <td>0.438650</td>\n",
              "      <td>3.805</td>\n",
              "    </tr>\n",
              "  </tbody>\n",
              "</table>\n",
              "<p>873 rows × 8 columns</p>\n",
              "</div>"
            ],
            "text/plain": [
              "         count       mean        std  ...       50%        75%     max\n",
              "tempo  23814.0  48.020156  19.402807  ...  48.00000  72.000000  72.000\n",
              "g-0    23814.0   0.248366   1.393399  ...  -0.00885   0.525700  10.000\n",
              "g-1    23814.0  -0.095684   0.812363  ...  -0.04660   0.403075   5.039\n",
              "g-2    23814.0   0.152253   1.035731  ...   0.07520   0.663925   8.257\n",
              "g-3    23814.0   0.081971   0.950012  ...   0.00805   0.463400  10.000\n",
              "...        ...        ...        ...  ...       ...        ...     ...\n",
              "c-95   23814.0  -0.353726   1.629291  ...  -0.01025   0.444750   2.814\n",
              "c-96   23814.0  -0.463485   2.059725  ...  -0.00125   0.465225   3.505\n",
              "c-97   23814.0  -0.378241   1.703615  ...  -0.00680   0.446400   2.924\n",
              "c-98   23814.0  -0.470252   1.834828  ...   0.01400   0.461275   3.111\n",
              "c-99   23814.0  -0.301505   1.407918  ...  -0.01950   0.438650   3.805\n",
              "\n",
              "[873 rows x 8 columns]"
            ]
          },
          "metadata": {
            "tags": []
          },
          "execution_count": 8
        }
      ]
    },
    {
      "cell_type": "markdown",
      "metadata": {
        "id": "LQ9BWpu7E1-J"
      },
      "source": [
        "#### Comentário sobre tendências centrais e dispersão\n",
        "\n",
        "> Com uma breve visualização da tabela acima podemos verificar a quantidade de amostras na coluna ``count``. Além disso temos a media (`mean`), desvio padrão amostral (`std`), os valores mínimo (`min`) / máximo (`max`) e os quartis 25%, 50% e 75%.\n",
        "\n",
        "> Note que para cada variável as médias e desvio são diferentes, e portanto, esses dados têm distribuições diferentes. Outro ponto é que os valores minimos e máximo são diferentes também para cada variável.\n",
        "\n",
        "---"
      ]
    },
    {
      "cell_type": "markdown",
      "metadata": {
        "id": "XLau6hCkaB42"
      },
      "source": [
        "## Expressão gênica\n",
        "\n",
        "Expressão gênica é um assunto avançado de biologia molecular. Resuminadamente é um processo pelo qual caracteristicas são expressas devido a fatores genéticos, isto é, informações contidas no DNA. O DNA é a base de dados de todo ser vivo, lá estão os tutoriais de como realizar algumas atividades intracelulares.\n",
        "\n",
        "Um desses \"tutoriais\" que o DNA ajuda a realizar é a sintese de proteínas, basicamente um conjunto de genes fornece a informação de como esse processo é feito:\n",
        "\n",
        "<img src='https://upload.wikimedia.org/wikipedia/commons/b/bb/Dogma_central_-_traduzido.jpg' width=70%>\n",
        "\n",
        "> fonte: [Introdução à expressão gênica (dogma central)](https://pt.khanacademy.org/science/biology/gene-expression-central-dogma/central-dogma-transcription/a/intro-to-gene-expression-central-dogma)\n",
        "\n",
        "Em condições bem definidas expressões gênicas de uma célula são bem definidas, mas dados alguns estímulos externos, internos ou farmacológicos a expressão gênica pode aumentar ou diminuir, isto é, aumentar a produção de RNA consequentemente aumentar a produção de proteinas e outras atividades.\n",
        "\n",
        "Dentro do dataset existem algumas variáveis relacionadas à expressão gênica, por exemplo a variável ``g-0``."
      ]
    },
    {
      "cell_type": "code",
      "metadata": {
        "colab": {
          "base_uri": "https://localhost:8080/"
        },
        "id": "0ixVumcrcvJq",
        "outputId": "e3cb2790-3c00-4b8e-9e2d-1e4fa5862e03"
      },
      "source": [
        "experimentos['g-0']"
      ],
      "execution_count": 9,
      "outputs": [
        {
          "output_type": "execute_result",
          "data": {
            "text/plain": [
              "0        1.0620\n",
              "1        0.0743\n",
              "2        0.6280\n",
              "3       -0.5138\n",
              "4       -0.3254\n",
              "          ...  \n",
              "23809    0.1394\n",
              "23810   -1.3260\n",
              "23811    0.3942\n",
              "23812    0.6660\n",
              "23813   -0.8598\n",
              "Name: g-0, Length: 23814, dtype: float64"
            ]
          },
          "metadata": {
            "tags": []
          },
          "execution_count": 9
        }
      ]
    },
    {
      "cell_type": "markdown",
      "metadata": {
        "id": "oCIU8n7p9D9G"
      },
      "source": [
        "# Aula 2\n"
      ]
    },
    {
      "cell_type": "markdown",
      "metadata": {
        "id": "eg_10y4d9FVH"
      },
      "source": [
        "# Aula 3\n"
      ]
    },
    {
      "cell_type": "markdown",
      "metadata": {
        "id": "TYvRd4Xq9HW8"
      },
      "source": [
        "# Aula 4\n"
      ]
    },
    {
      "cell_type": "markdown",
      "metadata": {
        "id": "sGu1VUnF9Ib7"
      },
      "source": [
        "# Aula 5"
      ]
    },
    {
      "cell_type": "code",
      "metadata": {
        "id": "oWs-B3ip9I2p"
      },
      "source": [
        ""
      ],
      "execution_count": 9,
      "outputs": []
    }
  ]
}